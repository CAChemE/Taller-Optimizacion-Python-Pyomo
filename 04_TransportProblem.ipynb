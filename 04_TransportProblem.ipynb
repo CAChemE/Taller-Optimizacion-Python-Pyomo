{
 "cells": [
  {
   "cell_type": "markdown",
   "metadata": {},
   "source": [
    "<img src=\"static/pybofractal.png\" alt=\"Pybonacci\" style=\"width: 200px;\"/>\n",
    "<img src=\"static/cacheme_logo.png\" alt=\"CAChemE\" style=\"width: 300px;\"/>"
   ]
  },
  {
   "cell_type": "markdown",
   "metadata": {},
   "source": [
    "# The Transport Problem\n",
    "\n",
    "> **Note:** Adapted from https://github.com/Pyomo/PyomoGallery, see LICENSE.BSD\n",
    "\n",
    "## Summary\n",
    "\n",
    "The goal of the Transport Problem is to select the quantities of an homogeneous good that has several production plants and several punctiform markets as to minimise the transportation costs.\n",
    "\n",
    "It is the default tutorial for the GAMS language, and GAMS equivalent code is inserted as single-dash comments. The original GAMS code needs slighly different ordering of the commands and it's available at http://www.gams.com/mccarl/trnsport.gms.\n",
    "\n",
    "## Problem Statement\n",
    "\n",
    "The Transport Problem can be formulated mathematically as a linear programming problem using the following model.  \n",
    "\n",
    "### Sets\n",
    "\n",
    " $I$ = set of canning plants  \n",
    " $J$ = set of markets\n",
    "\n",
    "### Parameters\n",
    "\n",
    " $a_i$     = capacity of plant $i$ in cases, $\\forall i \\in I$ <br />\n",
    " $b_j$     = demand at market $j$ in cases, $\\forall j \\in J$ <br />\n",
    " $d_{i,j}$ = distance in thousands of miles, $\\forall i \\in I, \\forall j \\in J$ <br />\n",
    " $f$       = freight in dollars per case per thousand miles <br />\n",
    " $c_{i,j}$ = transport cost in thousands of dollars per case\n",
    " \n",
    " $c_{i,j}$ is obtained exougenously to the optimisation problem as $c_{i,j} = f \\cdot d_{i,j}$, $\\forall i \\in I, \\forall j \\in J$\n",
    " \n",
    "### Variables\n",
    " $x_{i,j}$ = shipment quantities in cases <br />\n",
    " z         = total transportation costs in thousands of dollars\n",
    "\n",
    "### Objective\n",
    "\n",
    "Minimize the total cost of the shipments: <br />\n",
    "$\\min_{x} z = \\sum_{i \\in I} \\sum_{j \\in J} c_{i,j} x_{i,j}$\n",
    "\n",
    "### Constraints\n",
    "\n",
    "\n",
    "Observe supply limit at plant i: <br />\n",
    " $\\sum_{i \\in I} x_{i,j} \\leq a_{i}$, $\\forall i \\in I$\n",
    " \n",
    "Satisfy demand at market j: <br />\n",
    " $\\sum_{j \\in J} x_{i,j} \\geq b_{j}$, $\\forall j \\in J$\n",
    "\n",
    "Non-negative transportation quantities <br />\n",
    " $x_{i,j} \\geq 0$, $\\forall i \\in I, \\forall j \\in J$"
   ]
  },
  {
   "cell_type": "markdown",
   "metadata": {},
   "source": [
    "## Pyomo Formulation"
   ]
  },
  {
   "cell_type": "markdown",
   "metadata": {},
   "source": [
    "### Creation of the Model\n",
    "\n",
    "In pyomo everything is an object. The various components of the model (sets, parameters, variables, constraints, objective..) are all attributes of the main model object while being objects themselves.\n",
    "\n",
    "There are two type of models in pyomo: A `ConcreteModel` is one where all the data is defined at the model creation. We are going to use this type of model in this tutorial. Pyomo however supports also an `AbstractModel`, where the model structure is firstly generated and then particular instances of the model are generated with a particular set of data.\n",
    "\n",
    "The first thing to do in the script is to load the pyomo library and create a new `ConcreteModel` object. We have little imagination here, and we call our model \"model\". You can give it whatever name you want. However, if you give your model an other name, you also need to create a `model` object at the end of your script:"
   ]
  },
  {
   "cell_type": "code",
   "execution_count": null,
   "metadata": {
    "collapsed": true
   },
   "outputs": [],
   "source": []
  },
  {
   "cell_type": "markdown",
   "metadata": {},
   "source": [
    "### Set Definitions\n",
    "\n",
    "Sets are created as attributes object of the main model objects and all the information is given as parameter in the constructor function. Specifically, we are passing to the constructor the initial elements of the set and a documentation string to keep track on what our set represents: "
   ]
  },
  {
   "cell_type": "code",
   "execution_count": 1,
   "metadata": {
    "collapsed": true
   },
   "outputs": [],
   "source": [
    "## Define sets ##\n",
    "#  Sets\n",
    "#       i   canning plants   / seattle, san-diego /\n",
    "#       j   markets          / new-york, chicago, topeka / ;"
   ]
  },
  {
   "cell_type": "markdown",
   "metadata": {},
   "source": [
    "### Parameters\n",
    "\n",
    "Parameter objects are created specifying the sets over which they are defined and are initialised with either a python dictionary or a scalar: "
   ]
  },
  {
   "cell_type": "code",
   "execution_count": 2,
   "metadata": {
    "collapsed": false
   },
   "outputs": [],
   "source": [
    "## Define parameters ##\n",
    "#   Parameters\n",
    "#       a(i)  capacity of plant i in cases\n",
    "#         /    seattle     350\n",
    "#              san-diego   600  /\n",
    "#       b(j)  demand at market j in cases\n",
    "#         /    new-york    325\n",
    "#              chicago     300\n",
    "#              topeka      275  / ;\n",
    "\n",
    "\n",
    "#  Table d(i,j)  distance in thousands of miles\n",
    "#                    new-york       chicago      topeka\n",
    "#      seattle          2.5           1.7          1.8\n",
    "#      san-diego        2.5           1.8          1.4  ;\n",
    "\n",
    "\n",
    "#  Scalar f  freight in dollars per case per thousand miles  /90/ ;\n",
    "\n"
   ]
  },
  {
   "cell_type": "markdown",
   "metadata": {},
   "source": [
    "A third, powerful way to initialize a parameter is using a user-defined function.\n",
    "\n",
    "This function will be automatically called by pyomo with any possible (i,j) set. In this case pyomo will actually call `c_init()` six times in order to initialize the `model.c` parameter. "
   ]
  },
  {
   "cell_type": "code",
   "execution_count": 4,
   "metadata": {
    "collapsed": false
   },
   "outputs": [],
   "source": [
    "#  Parameter c(i,j)  transport cost in thousands of dollars per case ;\n",
    "#            c(i,j) = f * d(i,j) / 1000 ;\n",
    "\n"
   ]
  },
  {
   "cell_type": "markdown",
   "metadata": {},
   "source": [
    "### Variables\n",
    "\n",
    "Similar to parameters, variables are created specifying their domain(s). For variables we can also specify the upper/lower bounds in the constructor.\n",
    "\n",
    "Differently from GAMS, we don't need to define the variable that is on the left hand side of the objective function. "
   ]
  },
  {
   "cell_type": "code",
   "execution_count": 5,
   "metadata": {
    "collapsed": true
   },
   "outputs": [],
   "source": [
    "## Define variables ##\n",
    "#  Variables\n",
    "#       x(i,j)  shipment quantities in cases\n",
    "#       z       total transportation costs in thousands of dollars ;\n",
    "#  Positive Variable x ;\n",
    "\n"
   ]
  },
  {
   "cell_type": "markdown",
   "metadata": {},
   "source": [
    "### Constrains\n",
    "\n",
    "At this point, it should not be a surprise that constrains are again defined as model objects with the required information passed as parameter in the constructor function. "
   ]
  },
  {
   "cell_type": "code",
   "execution_count": 7,
   "metadata": {
    "collapsed": false
   },
   "outputs": [],
   "source": [
    "## Define contrains ##\n",
    "# supply(i)   observe supply limit at plant i\n",
    "# supply(i) .. sum (j, x(i,j)) =l= a(i)\n",
    "\n",
    "# demand(j)   satisfy demand at market j ;  \n",
    "# demand(j) .. sum(i, x(i,j)) =g= b(j);\n"
   ]
  },
  {
   "cell_type": "markdown",
   "metadata": {},
   "source": [
    "The above code take advantage of [list comprehensions](https://docs.python.org/2/tutorial/datastructures.html#list-comprehensions), a powerful feature of the python language that provides a concise way to loop over a list. If we take the supply_rule as example, this is actually called two times by pyomo (once for each of the elements of i). Without list comprehensions we would have had to write our function using a for loop, like: "
   ]
  },
  {
   "cell_type": "code",
   "execution_count": null,
   "metadata": {
    "collapsed": true
   },
   "outputs": [],
   "source": []
  },
  {
   "cell_type": "markdown",
   "metadata": {},
   "source": [
    "Using list comprehension is however quicker to code and more readable. "
   ]
  },
  {
   "cell_type": "markdown",
   "metadata": {},
   "source": [
    "### Objective and Solving\n",
    "\n",
    "The definition of the objective is similar to those of the constrains, except that most solvers require a scalar objective function, hence a unique function, and we can specify the sense (direction) of the optimisation. "
   ]
  },
  {
   "cell_type": "code",
   "execution_count": 8,
   "metadata": {
    "collapsed": true
   },
   "outputs": [],
   "source": [
    "## Define Objective and solve ##\n",
    "#  cost        define objective function\n",
    "#  cost ..        z  =e=  sum((i,j), c(i,j)*x(i,j)) ;\n",
    "#  Model transport /all/ ;\n",
    "#  Solve transport using lp minimizing z ;\n",
    "\n"
   ]
  },
  {
   "cell_type": "markdown",
   "metadata": {},
   "source": [
    "As we are here looping over two distinct sets, we can see how list comprehension really simplifies the code. The objective function could have being written without list comprehension as: "
   ]
  },
  {
   "cell_type": "code",
   "execution_count": null,
   "metadata": {
    "collapsed": true
   },
   "outputs": [],
   "source": []
  },
  {
   "cell_type": "markdown",
   "metadata": {},
   "source": [
    "### Retrieving the Output\n",
    "\n",
    "We use the `pyomo_postprocess()` function to retrieve the output and do something with it.  For example, we could display solution values (see below), plot a graph with [matplotlib](http://matplotlib.org/) or save it in a csv file.\n",
    "\n",
    "This function is called by pyomo after the solver has finished. "
   ]
  },
  {
   "cell_type": "code",
   "execution_count": 9,
   "metadata": {
    "collapsed": true
   },
   "outputs": [],
   "source": [
    "## Display of the output ##\n",
    "# Display x.l, x.m ;\n",
    "\n"
   ]
  },
  {
   "cell_type": "markdown",
   "metadata": {},
   "source": [
    "We can print model structure information with `model.pprint()` (“pprint” stand for “pretty print”).\n",
    "Results are also by default saved in a `results.json` file or, if PyYAML is installed in the system, in `results.yml`.\n",
    "\n",
    "### Editing and Running the Script\n",
    "\n",
    "Differently from GAMS, you can use whatever editor environment you wish to code a pyomo script. If you don't need debugging features, a simple text editor like Notepad++ (in windows), gedit or kate (in Linux) will suffice. They already have syntax highlight for python.\n",
    "\n",
    "If you want advanced features and debugging capabilities you can use a dedicated Python IDE, like e.g. Spyder.\n",
    "\n",
    "You will normally run the script as `pyomo solve –solver=glpk transport.py`. You can output solver specific output adding the option `–stream-output`. If you want to run the script as `python transport.py` add the following lines at the end:"
   ]
  },
  {
   "cell_type": "code",
   "execution_count": null,
   "metadata": {
    "collapsed": false
   },
   "outputs": [],
   "source": []
  },
  {
   "cell_type": "markdown",
   "metadata": {},
   "source": [
    "## Complete script\n",
    "\n",
    "Here is the complete script: "
   ]
  },
  {
   "cell_type": "code",
   "execution_count": null,
   "metadata": {
    "collapsed": false
   },
   "outputs": [],
   "source": []
  },
  {
   "cell_type": "markdown",
   "metadata": {},
   "source": [
    "## Solutions\n",
    "Running the model lead to the following output:"
   ]
  },
  {
   "cell_type": "code",
   "execution_count": 11,
   "metadata": {
    "collapsed": false
   },
   "outputs": [],
   "source": [
    "!pyomo solve --solver=glpk transport.py"
   ]
  },
  {
   "cell_type": "markdown",
   "metadata": {},
   "source": [
    "By default, the optimization results are stored in the file `results.json`:"
   ]
  },
  {
   "cell_type": "code",
   "execution_count": null,
   "metadata": {
    "collapsed": false
   },
   "outputs": [],
   "source": []
  },
  {
   "cell_type": "markdown",
   "metadata": {},
   "source": [
    "This solution shows that the minimum transport costs is attained when 300 cases are sent from the Seattle plant to the Chicago market, 50 cases from Seattle to New-York and 275 cases each are sent from San-Diego plant to New-York and Topeka markets.\n",
    "\n",
    "The total transport costs will be $153,675."
   ]
  },
  {
   "cell_type": "markdown",
   "metadata": {},
   "source": [
    "## References\n",
    "\n",
    "* Original problem formulation:\n",
    "  - Dantzig, G B, Chapter 3.3. In Linear Programming and Extensions. Princeton University Press, Princeton, New Jersey, 1963.\n",
    "* GAMS implementation:\n",
    "  - Rosenthal, R E, Chapter 2: A GAMS Tutorial. In GAMS: A User's Guide. The Scientific Press, Redwood City, California, 1988.\n",
    "* Pyomo translation: Antonello Lobianco"
   ]
  }
 ],
 "metadata": {
  "kernelspec": {
   "display_name": "Python 3",
   "language": "python",
   "name": "python3"
  },
  "language_info": {
   "codemirror_mode": {
    "name": "ipython",
    "version": 3
   },
   "file_extension": ".py",
   "mimetype": "text/x-python",
   "name": "python",
   "nbconvert_exporter": "python",
   "pygments_lexer": "ipython3",
   "version": "3.5.1"
  }
 },
 "nbformat": 4,
 "nbformat_minor": 0
}
