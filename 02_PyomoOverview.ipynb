{
 "cells": [
  {
   "cell_type": "markdown",
   "metadata": {},
   "source": [
    "<img src=\"static/pybofractal.png\" alt=\"Pybonacci\" style=\"width: 200px;\"/>\n",
    "<img src=\"static/cacheme_logo.png\" alt=\"CAChemE\" style=\"width: 300px;\"/>"
   ]
  },
  {
   "cell_type": "markdown",
   "metadata": {},
   "source": [
    "# 1. Pyomo Overview"
   ]
  },
  {
   "cell_type": "markdown",
   "metadata": {},
   "source": [
    "> **Note:** Adapted from https://github.com/Pyomo/PyomoGettingStarted, by William and Becca Hart"
   ]
  },
  {
   "cell_type": "markdown",
   "metadata": {},
   "source": [
    "## 1.1 Mathematical Modeling"
   ]
  },
  {
   "cell_type": "markdown",
   "metadata": {},
   "source": [
    "\n",
    "This chapter provides an introduction to Pyomo: Python Optimization Modeling Objects. A more complete description is contained in [Pyomo - Optimization Modeling in Python](http://www.springer.com/us/book/9781461432258). Pyomo supports the formulation and analysis of mathematical models for complex optimization applications. This capability is commonly associated with algebraic modeling languages (AMLs) such as [AMPL](http://www.ampl.com), [AIMMS](http://www.aimms.com/), and [GAMS](http://www.gams.com). Pyomo’s modeling objects are embedded within Python, a full-featured high-level programming language that contains a rich set of supporting libraries.\n",
    "Modeling is a fundamental process in many aspects of scientific research, engineering and business. Modeling involves the formulation of a simplified representation of a system or real-world object. Thus, modeling tools like Pyomo can be used in a variety of ways:\n",
    "\n",
    "- **Explain** phenomena that arise in a system,\n",
    "\n",
    "- **Make predictions** about future states of a system,\n",
    "\n",
    "- **Assess key factors** that influence phenomena in a system,\n",
    "\n",
    "- **Identify extreme states** in a system, that might represent worst-case scenarios or minimal cost plans, and\n",
    "\n",
    "- **Analyze trade-offs** to support human decision makers.\n",
    "\n",
    "Mathematical models represent system knowledge with a formalized mathematical language. The following mathematical concepts are central to modern modeling activities:\n",
    "\n",
    "#### Variables\n",
    "\n",
    "- **Variables**Variables represent unknown or changing parts of a model\n",
    "    (e.g. whether or not to make a decision, or the characteristic of \n",
    "    a system outcome).The values taken by the variables are often\n",
    "    referred to as a <span style=\"color:dakrblue\">*solution*</span> and are usually an output of the\n",
    "    optimization process.\n",
    "\n",
    "#### Parameters\n",
    "\n",
    "- Parameters represents the data that must be supplied to perform\n",
    "    theoptimization. In fact, in some settings the word <span style=\"color:darkblue\">*data*</span> is used in\n",
    "    place of the word <span style=\"color:dakrblue\">*parameters*</span>.\n",
    "\n",
    "#### Relations\n",
    "\n",
    "- These are equations, inequalities or other mathematical relationships\n",
    "    that define how different parts of a model are connected to each\n",
    "    other.\n",
    "\n",
    "#### Goals\n",
    "\n",
    "- These are functions that reflect goals and objectives for the system\n",
    "    being modeled.\n",
    "\n",
    "The widespread availability of computing resources has made the numerical analysis of mathematical models a commonplace activity. Without a modeling language, the process of setting up input files, executing a solver and extracting the final results from the solver output is tedious and error prone. This difficulty is compounded in complex, large-scale real-world applications which are difficult to debug when errors occur. Additionally, there are many different formats used by optimization software packages, and few formats are recognized by many optimizers. Thus the application of multiple optimization solvers to analyze a model introduces additional complexities.\n",
    "\n",
    "Pyomo is an AML that extends Python to include objects for mathematical modeling. Hart et al. [PyomoBook](https://software.sandia.gov/downloads/pub/pyomo/PyomoOnlineDocs.html#PyomoBook), [PyomoJournal](https://software.sandia.gov/downloads/pub/pyomo/PyomoOnlineDocs.html#PyomoJournal) compare Pyomo with other AMLs. Although many good AMLs have been developed for optimization models, the following are motivating factors for the development of Pyomo:\n",
    "\n",
    "#### Open Source\n",
    "\n",
    "- Pyomo is developed within Pyomo’s open source project to promote\n",
    "    transparency of the modeling framework and encourage community\n",
    "    development of Pyomo capabilities.\n",
    "\n",
    "#### Customizable Capability\n",
    "\n",
    "- Pyomo supports a customizable capability through the extensive use \n",
    "    of plug-ins to modularize software components.\n",
    "\n",
    "#### Solver Integration\n",
    "\n",
    "- Pyomo models can be optimized with solvers that are written either in\n",
    "    Python or in compiled, low-level languages.\n",
    "\n",
    "#### Programming Language\n",
    "\n",
    "- Pyomo leverages a high-level programming language, which has several\n",
    "    advantages over custom AMLs: a very robust language, extensive\n",
    "    documentation, a rich set of standard libraries, support for modern\n",
    "    programming features like classes and functions, and portability to\n",
    "    many platforms."
   ]
  },
  {
   "cell_type": "markdown",
   "metadata": {},
   "source": [
    "## 1.2 Overview of Modeling Components and Processes"
   ]
  },
  {
   "cell_type": "markdown",
   "metadata": {},
   "source": [
    "Pyomo supports an object-oriented design for the definition of optimization models. The basic steps of a simple modeling process are:\n",
    "\n",
    "- Create model and declare components\n",
    "\n",
    "- Instantiate the model\n",
    "\n",
    "- Apply solver\n",
    "\n",
    "- Interrogate solver results\n",
    "\n",
    "In practice, these steps may be applied repeatedly with different data or with different constraints applied to the model. However, we focus on this simple modeling process to illustrate different strategies for modeling with Pyomo.\n",
    "\n",
    "A Pyomo <span style=\"color:darkblue\">*model*</span> consists of a collection of modeling <span style=\"color:darkblue\">*components*</span> that define different aspects of the model. Pyomo includes the modeling components that are commonly supported by modern AMLs: index sets, symbolic parameters, decision variables, objectives, and constraints. These modeling components are defined in Pyomo through the following Python classes:\n",
    "\n",
    "#### Set\n",
    "\n",
    "- set data that is used to define a model instance\n",
    "\n",
    "#### Param\n",
    "\n",
    "- parameter data that is used to define a model instance\n",
    "\n",
    "#### Var\n",
    "\n",
    "- decision variables in a model\n",
    "\n",
    "#### Objective\n",
    "\n",
    "- expressions that are minimized or maximized in a model\n",
    "\n",
    "#### Constraint\n",
    "\n",
    "- constraint expressions that impose restrictions on variable\n",
    "    values in a model"
   ]
  },
  {
   "cell_type": "markdown",
   "metadata": {},
   "source": [
    "## 1.3 Abstract Versus Concrete Models"
   ]
  },
  {
   "cell_type": "markdown",
   "metadata": {},
   "source": [
    "A mathematical model can be defined using symbols that represent data values. For example, the following equations represent a linear program (LP) to find optimal values for the vector $x$ with parameters $n$ and $b$, and parameter vectors $a$ and $c$:\n",
    "\n",
    "$$\n",
    "\\begin{array}{lll}\n",
    "\\min & \\sum_{j=1}^n c_j x_j & \\\\\n",
    "s.t. & \\sum_{j=1}^n a_ij x_j \\geq b_i & \\forall i = 1 \\ldots m\\\\\n",
    "     & x_j \\geq 0 & \\forall j = 1 \\ldots n\n",
    "\\end{array}\n",
    "$$"
   ]
  },
  {
   "cell_type": "markdown",
   "metadata": {},
   "source": [
    "> ##### Note:\n",
    "> As a convenience, we use the symbol $\\forall$\n",
    "  to mean “for all” or “for each.”\n",
    " \n"
   ]
  },
  {
   "cell_type": "markdown",
   "metadata": {},
   "source": [
    "We call this an <span style=\"color:darkblue\">*abstract*</span> or <span style=\"color:darkblue\">*symbolic*</span> mathematical model since it relies on unspecified parameter values. Data values can be used to specify a <span style=\"color:darkblue\">*model instance*</span>. The <span style=\"color:darkblue; font-family:Courier\">AbstractModel</span> class provides a context for defining and initializing abstract optimization models in Pyomo when the data values will be supplied at the time a solution is to be obtained.\n",
    "\n",
    "In some contexts a mathematical model can be directly defined with the data values supplied at the time of the model definition and built into the model. We call these <span style=\"color:darkblue\">*concrete*</span> mathematical models. For example, the following LP model is a concrete instance of the previous abstract model:\n",
    "\n",
    "$$\n",
    "\\begin{array}{ll}\n",
    "\\min & 2x_1 + 3x_2\\\\\n",
    "s.t. & 3x_1 + 4x_2 \\geq 1\\\\\n",
    "     & x_1,x_2 \\geq 0 \n",
    "\\end{array}\n",
    "$$\n",
    "\n",
    "The <span style=\"color:darkblue; font-family:Courier\">ConcreteModel</span> class is used to define concrete optimization models in Pyomo."
   ]
  },
  {
   "cell_type": "markdown",
   "metadata": {},
   "source": [
    "## 1.4 A Simple Abstract Pyomo Model"
   ]
  },
  {
   "cell_type": "markdown",
   "metadata": {},
   "source": [
    "We repeat the abstract model already given:\n",
    "\n",
    "$$\n",
    "\\begin{array}{lll}\n",
    "\\min & \\sum_{j=1}^n c_j x_j & \\\\\n",
    "s.t. & \\sum_{j=1}^n a_ij x_j \\geq b_i & \\forall i = 1 \\ldots m\\\\\n",
    "     & x_j \\geq 0 & \\forall j = 1 \\ldots n\n",
    "\\end{array}\n",
    "$$\n",
    "\n",
    "One way to implement this in Pyomo is as follows:"
   ]
  },
  {
   "cell_type": "code",
   "execution_count": null,
   "metadata": {
    "collapsed": false
   },
   "outputs": [],
   "source": []
  },
  {
   "cell_type": "markdown",
   "metadata": {},
   "source": [
    "> ##### Note:\n",
    "> Python is interpreted one line at a time. A line continuation character, backslash, is used for Python statements that need to span multiple lines. In Python, indentation has meaning and must be consistent. For example, lines inside a function definition must be indented and the end of the indentation is used by Python to signal the end of the definition."
   ]
  },
  {
   "cell_type": "markdown",
   "metadata": {},
   "source": [
    "The first import line that is required in every Pyomo model. Its purpose is to make the symbols used by Pyomo known to Python."
   ]
  },
  {
   "cell_type": "code",
   "execution_count": null,
   "metadata": {
    "collapsed": true
   },
   "outputs": [],
   "source": []
  },
  {
   "cell_type": "markdown",
   "metadata": {},
   "source": [
    "The declaration of a model is also required. The use of the name <span style=\"color:darkblue; font-family:Courier\">model</span> is not required. Almost any name could be used, but we will use the name <span style=\"color:darkblue; font-family:Courier\">model</span> most of the time in this book. In this example, we are declaring that it will be an abstract model."
   ]
  },
  {
   "cell_type": "code",
   "execution_count": null,
   "metadata": {
    "collapsed": true
   },
   "outputs": [],
   "source": []
  },
  {
   "cell_type": "markdown",
   "metadata": {},
   "source": [
    "We declare the parameters $m$ and $n$ using the Pyomo <span style=\"color:darkblue; font-family:Courier\">Param</span> function. This function can take a variety of arguments; this example illustrates use of the <span style=\"color:darkblue; font-family:Courier\">within</span> option that is used by Pyomo to validate the data value that is assigned to the parameter. If this option were not given, then Pyomo would not object to any type of data being assigned to these parameters. As it is, assignment of a value that is not a non-negative integer will result in an error."
   ]
  },
  {
   "cell_type": "code",
   "execution_count": null,
   "metadata": {
    "collapsed": true
   },
   "outputs": [],
   "source": []
  },
  {
   "cell_type": "markdown",
   "metadata": {},
   "source": [
    "Although not required, it is convenient to define index sets. In this example we use the <span style=\"color:darkblue; font-family:Courier\">RangeSet</span> function to declare that the sets will be a sequence of integers starting at 1 and ending at a value specified by the the parameters <span style=\"color:darkblue; font-family:Courier\">model.m</span> and <span style=\"color:darkblue; font-family:Courier\">model.n</span>."
   ]
  },
  {
   "cell_type": "code",
   "execution_count": null,
   "metadata": {
    "collapsed": true
   },
   "outputs": [],
   "source": []
  },
  {
   "cell_type": "markdown",
   "metadata": {},
   "source": [
    "The coefficient and right-hand-side data are defined as indexed parameters. When sets are given as arguments to the <span style=\"color:darkblue; font-family:Courier\">Param</span> function, they indicate that the set will index the parameter."
   ]
  },
  {
   "cell_type": "code",
   "execution_count": null,
   "metadata": {
    "collapsed": true
   },
   "outputs": [],
   "source": []
  },
  {
   "cell_type": "markdown",
   "metadata": {},
   "source": [
    "> ##### Note:\n",
    "> In Python, and therefore in Pyomo, any text after pound sign is considered to be a comment.\n",
    "\n",
    "The next line interpreted by Python as part of the model declares the variable $x$. The first argument to the <span style=\"color:darkblue; font-family:Courier\">Var</span> function is a set, so it is defined as an index set for the variable. In this case the variable has only one index set, but multiple sets could be used as was the case for the declaration of the parameter <span style=\"color:darkblue; font-family:Courier\">model.a</span>. The second argument specifies a domain for the variable. This information is part of the model and will passed to the solver when data is provided and the model is solved. Specification of the <span style=\"color:darkblue; font-family:Courier\">NonNegativeReals</span> domain implements the requirement that the variables be greater than or equal to zero."
   ]
  },
  {
   "cell_type": "code",
   "execution_count": null,
   "metadata": {
    "collapsed": false
   },
   "outputs": [],
   "source": []
  },
  {
   "cell_type": "markdown",
   "metadata": {},
   "source": [
    "In abstract models, Pyomo expressions are usually provided to objective function and constraint declarations via a function defined with a Python <span style=\"color:darkblue; font-family:Courier\">def</span> statement. The <span style=\"color:darkblue; font-family:Courier\">def</span> statement establishes a name for a function along with its arguments. When Pyomo uses a function to get objective function or constraint expressions, it always passes in the model (i.e., itself) as the the first argument so the model is always the first formal argument when declaring such functions in Pyomo. Additional arguments, if needed, follow. Since summation is an extremely common part of optimization models, Pyomo provides a flexible function to accommodate it. When given two arguments, the <span style=\"color:darkblue; font-family:Courier\">summation</span> function returns an expression for the sum of the product of the two arguments over their indexes. This only works, of course, if the two arguments have the same indexes. If it is given only one argument it returns an expression for the sum over all indexes of that argument. So in this example, when <span style=\"color:darkblue; font-family:Courier\">summation</span> is passed the arguments <span style=\"color:darkblue; font-family:Courier\">model.c</span>, <span style=\"color:darkblue; font-family:Courier\">model.x</span> it returns an internal representation of the expression $\\sum_{j=1}^n c_j x_j$."
   ]
  },
  {
   "cell_type": "code",
   "execution_count": null,
   "metadata": {
    "collapsed": true
   },
   "outputs": [],
   "source": []
  },
  {
   "cell_type": "markdown",
   "metadata": {},
   "source": [
    "To declare an objective function, the Pyomo function called <span style=\"color:darkblue; font-family:Courier\">Objective</span> is used. The <span style=\"color:darkblue; font-family:Courier\">rule</span> argument gives the name of a function that returns the expression to be used. The default <span style=\"color:darkblue\">*sense*</span> is minimization. For maximization, the <span style=\"color:darkblue; font-family:Courier\">sense=maximize</span> argument must be used. The name that is declared, which is <span style=\"color:darkblue; font-family:Courier\">OBJ</span> in this case, appears in some reports and can be almost any name."
   ]
  },
  {
   "cell_type": "code",
   "execution_count": null,
   "metadata": {
    "collapsed": true
   },
   "outputs": [],
   "source": []
  },
  {
   "cell_type": "markdown",
   "metadata": {},
   "source": [
    "Declaration of constraints is similar. A function is declared to deliver the constraint expression. In this case, there can be multiple constraints of the same form because we index the constraints by $i$ in the expression $ \\sum_{j=1}^n a_ij x_j \\geq b_i \\forall i = 1 \\ldots m$, which states that we need a constraint for each value of $i$ from one to $m$. In order to parametrize the expression by $i$ we include it as a formal parameter to the function that declares the constraint expression. Technically, we could have used anything for this argument, but that might be confusing. Using an <span style=\"color:blue; font-family:Courier\">i</span> for an $i$ seems sensible in this situation."
   ]
  },
  {
   "cell_type": "code",
   "execution_count": null,
   "metadata": {
    "collapsed": true
   },
   "outputs": [],
   "source": []
  },
  {
   "cell_type": "markdown",
   "metadata": {},
   "source": [
    "> #### Note:\n",
    "> In Python, indexes are in square brackets and function arguments are in parentheses.\n",
    "\n",
    "In order to declare constraints that use this expression, we use the Pyomo <span style=\"color:darkblue; font-family:Courier\">Constraint</span> function that takes a variety of arguments. In this case, our model specifies that we can have more than one constraint of the same form and we have created a set, <span style=\"color:darkblue; font-family:Courier\">model.I</span>, over which these constraints can be indexed so that is the first argument to the constraint declaration function. The next argument gives the rule that will be used to generate expressions for the constraints. Taken as a whole, this constraint declaration says that a list of constraints indexed by the set <span style=\"color:darkblue; font-family:Courier\">model.I</span> will be created and for each member of model.I, the function <span style=\"color:darkblue; font-family:Courier\">ax_constraint_rule</span> will be called and it will be passed the model object as well as the member of <span style=\"color:darkblue; font-family:Courier\">model.I</span>."
   ]
  },
  {
   "cell_type": "code",
   "execution_count": null,
   "metadata": {
    "collapsed": false
   },
   "outputs": [],
   "source": []
  },
  {
   "cell_type": "markdown",
   "metadata": {},
   "source": [
    "In the object oriented view of all of this, we would say that model object is a class instance of the <span style=\"color:darkblue; font-family:Courier\">AbstractModel</span> class, and <span style=\"color:darkblue; font-family:Courier\">model.J</span> is a <span style=\"color:darkblue; font-family:Courier\">Set</span> object that is contained by this model. Many modeling components in Pyomo can be optionally specified as <span style=\"color:darkblue\">*indexed components*</span>: collections of components that are referenced using one or more values. In this example, the parameter <span style=\"color:darkblue; font-family:Courier\">model.c</span> is indexed with set <span style=\"color:darkblue; font-family:Courier\">model.J</span>.\n",
    "\n",
    "In order to use this model, data must be given for the values of the parameters. Here is one file that provides data."
   ]
  },
  {
   "cell_type": "code",
   "execution_count": null,
   "metadata": {
    "collapsed": false
   },
   "outputs": [],
   "source": []
  },
  {
   "cell_type": "markdown",
   "metadata": {},
   "source": [
    "There are multiple formats that can be used to provide data to a Pyomo model, but the AMPL format works well for our purposes because it contains the names of the data elements together with the data. In AMPL data files, text after a pound sign is treated as a comment. Lines generally do not matter, but statements must be terminated with a semi-colon.\n",
    "\n",
    "For this particular data file, there is one constraint, so the value of <span style=\"color:darkblue; font-family:Courier\">model.m</span> will be one and there are two variables (i.e., the vector <span style=\"color:darkblue; font-family:Courier\">model.x</span> is two elements long) so the value of <span style=\"color:darkblue; font-family:Courier\">model.n</span> will be two. These two assignments are accomplished with standard assignments. Notice that in AMPL format input, the name of the model is omitted."
   ]
  },
  {
   "cell_type": "code",
   "execution_count": null,
   "metadata": {
    "collapsed": false
   },
   "outputs": [],
   "source": []
  },
  {
   "cell_type": "markdown",
   "metadata": {},
   "source": [
    "There is only one constraint, so only two values are needed for <span style=\"color:darkblue; font-family:Courier\">model.a</span>. When assigning values to arrays and vectors in AMPL format, one way to do it is to give the index(es) and the the value. The line 1 2 4 causes <span style=\"color:darkblue; font-family:Courier\">model.a[1,2]</span> to get the value 4. Since <span style=\"color:darkblue; font-family:Courier\">model.c</span> has only one index, only one index value is needed so, for example, the line 1 2 causes <span style=\"color:darkblue; font-family:Courier\">model.c[1]</span> to get the value 2. Line breaks generally do not matter in AMPL format data files, so the assignment of the value for the single index of <span style=\"color:darkblue; font-family:Courier\">model.b</span> is given on one line since that is easy to read."
   ]
  },
  {
   "cell_type": "code",
   "execution_count": null,
   "metadata": {
    "collapsed": false
   },
   "outputs": [],
   "source": []
  },
  {
   "cell_type": "markdown",
   "metadata": {},
   "source": [
    "When working with Pyomo (or any other AML), it is convenient to write abstract models in a somewhat more abstract way by using index sets that contain strings rather than index sets that are implied by $1,...,m$ or the summation from 1 to $n$. When this is done, the size of the set is implied by the input, rather than specified directly. Furthermore, the index entries may have no real order. Often, a mixture of integers and indexes and strings as indexes is needed in the same model. To start with an illustration of general indexes, consider a slightly different Pyomo implementation of the model we just presented."
   ]
  },
  {
   "cell_type": "code",
   "execution_count": null,
   "metadata": {
    "collapsed": false
   },
   "outputs": [],
   "source": []
  },
  {
   "cell_type": "markdown",
   "metadata": {},
   "source": [
    "However, this model can also be fed different data for problems of the same general form using meaningful indexes."
   ]
  },
  {
   "cell_type": "code",
   "execution_count": null,
   "metadata": {
    "collapsed": false
   },
   "outputs": [],
   "source": []
  },
  {
   "cell_type": "markdown",
   "metadata": {},
   "source": [
    "## 1.5 A Simple Concrete Pyomo Model"
   ]
  },
  {
   "cell_type": "markdown",
   "metadata": {},
   "source": [
    "It is possible to get nearly the same flexible behavior from models declared to be abstract and models declared to be concrete in Pyomo; however, we will focus on a straightforward concrete example here where the data is hard-wired into the model file. Python programmers will quickly realize that the data could have come from other sources.\n",
    "\n",
    "We repeat the concrete model already given:\n",
    "\n",
    "$$\\min \\quad 2x_1 + 3x_2$$\n",
    "$$s.t. \\quad 3x_1 + 4x_2 \\geq 1$$\n",
    "$$x_1,x_2 \\geq 0$$\n",
    "\n",
    "This is implemented as a concrete model as follows:"
   ]
  },
  {
   "cell_type": "code",
   "execution_count": null,
   "metadata": {
    "collapsed": true
   },
   "outputs": [],
   "source": []
  },
  {
   "cell_type": "markdown",
   "metadata": {},
   "source": [
    "Although rule functions can also be used to specify constraints and objectives, in this example we use the <span style=\"color:darkblue; font-family:Courier\">expr</span> option that is available only in concrete models. This option gives a direct specification of the expression."
   ]
  },
  {
   "cell_type": "markdown",
   "metadata": {},
   "source": [
    "## 1.6 Solving the Simple Examples"
   ]
  },
  {
   "cell_type": "markdown",
   "metadata": {},
   "source": [
    "Pyomo supports modeling and scripting but does not install a solver automatically. In order to solve a model, there must be a solver installed on the computer to be used. If there is a solver, then the <span style=\"color:darkblue; font-family:Courier\">pyomo</span> command can be used to solve a problem instance.\n",
    "\n",
    "Suppose that the solver named glpk (also known as glpsol) is installed on the computer. Suppose further that an abstract model is in the file named <span style=\"color:darkblue; font-family:Courier\">abstract1.py</span> and a data file for it is in the file named <span style=\"color:darkblue; font-family:Courier\">abstract1.dat</span>. From the command prompt, with both files in the current directory, a solution can be obtained with the command:"
   ]
  },
  {
   "cell_type": "code",
   "execution_count": null,
   "metadata": {
    "collapsed": false
   },
   "outputs": [],
   "source": []
  },
  {
   "cell_type": "markdown",
   "metadata": {},
   "source": [
    "Since glpk is the default solver, there really is no need specify it so the <span style=\"color:darkblue; font-family:Courier\">--solver</span> option can be dropped.\n",
    "\n",
    "> ##### Note:\n",
    "> There are two dashes before the command line option names such as solver.\n",
    "\n",
    "To continue the example, if CPLEX is installed then it can be listed as the solver. The command to solve with CPLEX is"
   ]
  },
  {
   "cell_type": "code",
   "execution_count": null,
   "metadata": {
    "collapsed": false
   },
   "outputs": [],
   "source": []
  },
  {
   "cell_type": "markdown",
   "metadata": {},
   "source": [
    "This yields the following output on the screen:"
   ]
  },
  {
   "cell_type": "markdown",
   "metadata": {},
   "source": [
    "The numbers is square brackets indicate how much time was required for each step. Results are written to the file named <span style=\"color:darkblue; font-family:Courier\">results.json</span>, which has a special structure that makes it useful for post-processing. To see a summary of results written to the screen, use the <span style=\"color:darkblue; font-family:Courier\">--summary</span> option:"
   ]
  },
  {
   "cell_type": "code",
   "execution_count": null,
   "metadata": {
    "collapsed": false
   },
   "outputs": [],
   "source": []
  },
  {
   "cell_type": "markdown",
   "metadata": {},
   "source": [
    "To see a list of Pyomo command line options, use:"
   ]
  },
  {
   "cell_type": "code",
   "execution_count": null,
   "metadata": {
    "collapsed": false
   },
   "outputs": [],
   "source": []
  },
  {
   "cell_type": "markdown",
   "metadata": {},
   "source": [
    "For a concrete model, no data file is specified on the Pyomo command line."
   ]
  }
 ],
 "metadata": {
  "kernelspec": {
   "display_name": "Python 3",
   "language": "python",
   "name": "python3"
  },
  "language_info": {
   "codemirror_mode": {
    "name": "ipython",
    "version": 3
   },
   "file_extension": ".py",
   "mimetype": "text/x-python",
   "name": "python",
   "nbconvert_exporter": "python",
   "pygments_lexer": "ipython3",
   "version": "3.5.1"
  }
 },
 "nbformat": 4,
 "nbformat_minor": 0
}
